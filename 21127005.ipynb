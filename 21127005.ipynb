{
 "cells": [
  {
   "cell_type": "markdown",
   "metadata": {},
   "source": [
    "# <center>Đồ án 3: Linear Regression</center>"
   ]
  },
  {
   "cell_type": "markdown",
   "metadata": {},
   "source": [
    "# Thông tin sinh viên\n",
    "\n",
    "- Họ và tên: Lê Trọng Đức Anh\n",
    "- MSSV: 21127005\n",
    "- Lớp: 21CLC05"
   ]
  },
  {
   "cell_type": "markdown",
   "metadata": {},
   "source": [
    "# Import"
   ]
  },
  {
   "cell_type": "code",
   "execution_count": 1,
   "metadata": {},
   "outputs": [],
   "source": [
    "import pandas as pd\n",
    "import numpy as np\n",
    "import matplotlib.pyplot as plt\n",
    "from sklearn.linear_model import HuberRegressor,LinearRegression\n",
    "from sklearn.metrics import mean_absolute_error\n",
    "from sklearn.feature_selection import SelectKBest\n",
    "from sklearn.feature_selection import f_regression\n",
    "# Bỏ những warning của sklearn\n",
    "import warnings\n",
    "from sklearn.exceptions import ConvergenceWarning\n",
    "warnings.filterwarnings('ignore', category=ConvergenceWarning)\n",
    "from sklearn.exceptions import DataConversionWarning\n",
    "warnings.filterwarnings(action='ignore', category=DataConversionWarning)\n",
    "# Import thêm dữ thư viện nếu cần"
   ]
  },
  {
   "cell_type": "markdown",
   "metadata": {},
   "source": [
    "# Đọc dữ liệu"
   ]
  },
  {
   "cell_type": "code",
   "execution_count": 2,
   "metadata": {},
   "outputs": [],
   "source": [
    "# Đọc dữ liệu bằng pandas\n",
    "train = pd.read_csv('train.csv')\n",
    "test = pd.read_csv('test.csv')\n",
    "\n",
    "# Lấy các đặc trưng X và giá trị mục tiêu y cho các tập huấn luyện (train) và kiểm tra (test)\n",
    "X_train = train.iloc[:, :-1]    # Dataframe (chứa các đặc trưng huấn luyện)\n",
    "y_train = train.loc[:, [\"Salary\"]].to_numpy()     # Series    (chứa 1 giá trị mục tiêu kiểm tra)\n",
    "X_test = test.iloc[:, :-1]      # Dataframe (chứa các đặc trưng kiểm tra)\n",
    "y_test = test.loc[:,[\"Salary\"]].to_numpy()       # Series    (chứa 1 giá trị mục tiêu kiểm tra)\n",
    "\n",
    "# Sinh viên có thể sử dụng các khác nếu cần"
   ]
  },
  {
   "cell_type": "markdown",
   "metadata": {},
   "source": [
    "# Cài đặt hàm"
   ]
  },
  {
   "cell_type": "code",
   "execution_count": 3,
   "metadata": {},
   "outputs": [],
   "source": [
    "# Cài đặt các hàm cần thiết ở đây\n",
    "# Xây dựng hàm chọn model theo k-fold Cross-Validation để sử dụng cho câu 1b,1c,1d\n",
    "def choose_model(models,train_org,k=10,display_model=True):\n",
    "    # Xáo trộn toàn bộ dữ liệu trong tập train\n",
    "    train = train_org.copy()\n",
    "    train = train.sample(frac=1)\n",
    "    # Tạo ra k tập data con từ tập train (cross-validation)\n",
    "    n=len(train)\n",
    "    data_split = [train.iloc[i*(n//k):(i+1)*(n//k),:] for i in range(k)]\n",
    "\n",
    "    count = 0 \n",
    "    # Tìm ra model tốt nhất\n",
    "    for model,attrs in models:\n",
    "        count+=1\n",
    "        list_mae=[] # Chứa mae của mỗi fold \n",
    "        for data in data_split:\n",
    "            # Lấy tập dữ liệu theo tập thuộc tính đã quy định trong model\n",
    "            X_train = data.loc[:,attrs].to_numpy()\n",
    "            Y_train = data.loc[:,[\"Salary\"]].to_numpy()\n",
    "\n",
    "            # Huấn luyện model theo tập đã lấy\n",
    "            lr = model.fit(X_train,Y_train)\n",
    "\n",
    "            # Predict kết quả trên từng tập\n",
    "            list_mae.append(mean_absolute_error(lr.predict(X_train),Y_train))\n",
    "            \n",
    "        # In ra các kết quả cross-validation như yêu cầu\n",
    "        if display_model==True:\n",
    "            print(attrs,\":\",np.mean(np.array(list_mae)))\n",
    "        else:\n",
    "            print(\"model\",count,\":\",np.mean(np.array(list_mae)))\n"
   ]
  },
  {
   "cell_type": "markdown",
   "metadata": {},
   "source": [
    "# Yêu cầu 1a: Sử dụng toàn bộ 11 đặc trưng đầu tiên `Gender`, `10percentage`, `12percentage`, `CollegeTier`, `Degree`, `collegeGPA`, `CollegeCityTier`, `English`, `Logical`, `Quant`, `Domain` (2 điểm) "
   ]
  },
  {
   "cell_type": "code",
   "execution_count": 4,
   "metadata": {},
   "outputs": [
    {
     "name": "stdout",
     "output_type": "stream",
     "text": [
      "[[-23183.330 702.767 1259.019 -99570.608 18369.962 1297.532 -8836.727\n",
      "  141.760 145.742 114.643 34955.750]]\n"
     ]
    }
   ],
   "source": [
    "# Phần code cho yêu cầu 1a\n",
    "# Lấy 11 trường dữ liệu đầu tiên trong tập test\n",
    "X_train_1a = train.iloc[:,:11].to_numpy()\n",
    "# Lấy 11 trường dữ liệu đầu trong tập train\n",
    "X_test_1a = test.iloc[:,:11].to_numpy()\n",
    "\n",
    "# Lấy các tham số sau khi giải hồi quy\n",
    "lr_1a = LinearRegression().fit(X_train_1a,y_train)\n",
    "\n",
    "# Format số thực cho numpy\n",
    "float_formatter = \"{:.3f}\".format\n",
    "np.set_printoptions(formatter={'float_kind':float_formatter})\n",
    "\n",
    "# In ra hệ số của hàm hồi quy\n",
    "print(lr_1a.coef_)\n",
    "\n"
   ]
  },
  {
   "cell_type": "code",
   "execution_count": 5,
   "metadata": {},
   "outputs": [
    {
     "name": "stdout",
     "output_type": "stream",
     "text": [
      "105052.52978823165\n"
     ]
    }
   ],
   "source": [
    "# Gọi hàm MAE (tự cài đặt hoặc từ thư viện) trên tập kiểm tra\n",
    "print(mean_absolute_error(lr_1a.predict(X_test_1a),y_test))"
   ]
  },
  {
   "cell_type": "markdown",
   "metadata": {},
   "source": [
    "Công thức hồi quy (phần trọng số làm tròn đến 3 chữ số thập phân, ví dụ 0.012345 $\\to$ 0.012)\n",
    "\n",
    "$$\\text{Salary} = -23183.330 * Gender + 702.767 * 10percentage + 1259.019 * 12percentage $$\n",
    " $$-99570.608 * CollegeTier +  18369.962 * Degree + 1297.532 * collegeGPA $$\n",
    "$$ -8836.727 * CollegeCityTier +  141.760 * English $$\n",
    "$$ + 145.742 * Logical + 114.643 * Quant + 34955.750 * Domain  $$"
   ]
  },
  {
   "cell_type": "markdown",
   "metadata": {},
   "source": [
    "# Yêu cầu 1b: Xây dựng mô hình sử dụng duy nhất 1 đặc trưng tính cách với các đặc trưng tính cách gồm `conscientiousness`, `agreeableness`, `extraversion`, `nueroticism`, `openess_to_experience`, tìm mô hình cho kết quả tốt nhất (1 điểm)"
   ]
  },
  {
   "cell_type": "markdown",
   "metadata": {},
   "source": [
    "Lưu ý: khi sử dụng cross-validation, sinh viên cần xáo trộn dữ liệu 1 lần duy nhất và thực hiện trên toàn bộ đặc trưng"
   ]
  },
  {
   "cell_type": "code",
   "execution_count": 6,
   "metadata": {},
   "outputs": [
    {
     "name": "stdout",
     "output_type": "stream",
     "text": [
      "['conscientiousness'] : 124883.2382377151\n",
      "['agreeableness'] : 123751.32402931941\n",
      "['extraversion'] : 124665.91894778667\n",
      "['nueroticism'] : 123763.7485819967\n",
      "['openess_to_experience'] : 125080.1729379246\n"
     ]
    }
   ],
   "source": [
    "# Phần code cho yêu cầu 1b\n",
    "\n",
    "# Mỗi model là một thuộc tính trong câu 1b kèm theo lớp LinearRegression\n",
    "models = [(LinearRegression(),[\"conscientiousness\"]),(LinearRegression(),[\"agreeableness\"]),(LinearRegression(),\n",
    "        [\"extraversion\"]),(LinearRegression(),[\"nueroticism\"]),(LinearRegression(),[\"openess_to_experience\"])]\n",
    "choose_model(models,train)\n",
    "    "
   ]
  },
  {
   "cell_type": "markdown",
   "metadata": {},
   "source": [
    "Ta thấy `agreeableness` là đặc trưng tốt nhất vì nó mae trung bình nhỏ nhất. Do đó ta sử dụng 'agreeableness' cho mô hình của chúng ta"
   ]
  },
  {
   "cell_type": "code",
   "execution_count": 7,
   "metadata": {},
   "outputs": [
    {
     "name": "stdout",
     "output_type": "stream",
     "text": [
      "[[15834.939]]\n"
     ]
    }
   ],
   "source": [
    "# Huấn luyện lại mô hình best_personality_feature_model với đặc trưng tốt nhất trên toàn bộ tập huấn luyện\n",
    "best_personality_feature_model = \"agreeableness\"\n",
    "\n",
    "# Lấy tập dữ liệu của best_personality_feature_model\n",
    "X_train_1b = train.loc[:,[best_personality_feature_model]].to_numpy()\n",
    "Y_train_1b = train.loc[:,[\"Salary\"]].to_numpy()\n",
    "X_test_1b = test.loc[:,[best_personality_feature_model]].to_numpy()\n",
    "Y_test_1b = test.loc[:,[\"Salary\"]].to_numpy()\n",
    "\n",
    "# Huấn luyện mô hình\n",
    "lr_1b = LinearRegression().fit(X_train_1b,Y_train_1b)\n",
    "\n",
    "# Lấy hệ số\n",
    "print(lr_1b.coef_)"
   ]
  },
  {
   "cell_type": "code",
   "execution_count": 8,
   "metadata": {},
   "outputs": [
    {
     "name": "stdout",
     "output_type": "stream",
     "text": [
      "118153.16335110964\n"
     ]
    }
   ],
   "source": [
    "# Gọi hàm MAE (tự cài đặt hoặc từ thư viện) trên tập kiểm tra với mô hình best_personality_feature_model\n",
    "print(mean_absolute_error(lr_1b.predict(X_test_1b),Y_test_1b))"
   ]
  },
  {
   "cell_type": "markdown",
   "metadata": {},
   "source": [
    "Vẽ đường hồi quy trên thuộc tính `agreeableness` trên tập Test"
   ]
  },
  {
   "cell_type": "code",
   "execution_count": 9,
   "metadata": {},
   "outputs": [
    {
     "data": {
      "image/png": "[encoded data removed]",
      "text/plain": [
       "<Figure size 640x480 with 1 Axes>"
      ]
     },
     "metadata": {},
     "output_type": "display_data"
    }
   ],
   "source": [
    "plt.plot(X_test_1b,Y_test_1b,'o')\n",
    "plt.xlabel('agreeableness')\n",
    "plt.ylabel('Salary')\n",
    "plt.plot(X_test_1b,(np.array(*lr_1b.coef_))*X_test_1b)\n",
    "plt.show()"
   ]
  },
  {
   "cell_type": "markdown",
   "metadata": {},
   "source": [
    "Công thức hồi quy (phần trọng số làm tròn đến 3 chữ số thập phân, ví dụ 0.012345 $\\to$ 0.012)\n",
    "\n",
    "$$\\text{Salary} = 15834.939 * agreeableness $$"
   ]
  },
  {
   "cell_type": "markdown",
   "metadata": {},
   "source": [
    "# Yêu cầu 1c: Xây dựng mô hình sử dụng duy nhất 1 đặc trưng `English`, `Logical`, `Quant`, tìm mô hình cho kết quả tốt nhất (1 điểm)"
   ]
  },
  {
   "cell_type": "markdown",
   "metadata": {},
   "source": [
    "Lưu ý: khi sử dụng cross-validation, sinh viên cần xáo trộn dữ liệu 1 lần duy nhất và thực hiện trên toàn bộ đặc trưng"
   ]
  },
  {
   "cell_type": "code",
   "execution_count": 10,
   "metadata": {},
   "outputs": [
    {
     "name": "stdout",
     "output_type": "stream",
     "text": [
      "['English'] : 120736.17385133015\n",
      "['Logical'] : 120061.00526686278\n",
      "['Quant'] : 117019.51087140551\n"
     ]
    }
   ],
   "source": [
    "# Phần code cho yêu cầu 1c\n",
    "\n",
    "# Mỗi model là một đặc trưng của câu 1c kèm theo lớp LinearRegression\n",
    "models = [(LinearRegression(),[\"English\"]),(LinearRegression(),[\"Logical\"]),(LinearRegression(),[\"Quant\"])]\n",
    "choose_model(models,train)"
   ]
  },
  {
   "cell_type": "markdown",
   "metadata": {},
   "source": [
    "Tương tự câu 1b, ta thấy `Quant` là đặc trưng tốt nhất do có mae trung bình nhỏ nhất."
   ]
  },
  {
   "cell_type": "code",
   "execution_count": 11,
   "metadata": {},
   "outputs": [
    {
     "name": "stdout",
     "output_type": "stream",
     "text": [
      "[[368.852]]\n"
     ]
    }
   ],
   "source": [
    "# Huấn luyện lại mô hình best_skill_feature_model với đặc trưng tốt nhất trên toàn bộ tập huấn luyện\n",
    "best_skill_feature_model = \"Quant\"\n",
    "\n",
    "# Lấy tập dữ liệu của best_skill_feature_model\n",
    "X_train_1c = train.loc[:,[best_skill_feature_model]].to_numpy()\n",
    "Y_train_1c = train.loc[:,[\"Salary\"]].to_numpy()\n",
    "X_test_1c = test.loc[:,[best_skill_feature_model]].to_numpy()\n",
    "Y_test_1c = test.loc[:,[\"Salary\"]].to_numpy()\n",
    "\n",
    "# Huấn luyện mô hình\n",
    "lr_1c = LinearRegression().fit(X_train_1c,Y_train_1c)\n",
    "\n",
    "# Lấy hệ số\n",
    "print(lr_1c.coef_)"
   ]
  },
  {
   "cell_type": "code",
   "execution_count": 12,
   "metadata": {},
   "outputs": [
    {
     "name": "stdout",
     "output_type": "stream",
     "text": [
      "108814.05968837196\n"
     ]
    }
   ],
   "source": [
    "# Gọi hàm MAE (tự cài đặt hoặc từ thư viện) trên tập kiểm tra với mô hình best_skill_feature_model\n",
    "print(mean_absolute_error(lr_1c.predict(X_test_1c),Y_test_1c))"
   ]
  },
  {
   "cell_type": "markdown",
   "metadata": {},
   "source": [
    "Vẽ đường hồi quy trên thuộc tính `Quant` trên tập Test"
   ]
  },
  {
   "cell_type": "code",
   "execution_count": 13,
   "metadata": {},
   "outputs": [
    {
     "data": {
      "image/png": "[encoded data removed]",
      "text/plain": [
       "<Figure size 640x480 with 1 Axes>"
      ]
     },
     "metadata": {},
     "output_type": "display_data"
    }
   ],
   "source": [
    "plt.plot(X_test_1c,Y_test_1c,'o')\n",
    "plt.xlabel('Quant')\n",
    "plt.ylabel('Salary')\n",
    "plt.plot(X_test_1c,(np.array(*lr_1c.coef_))*X_test_1c)\n",
    "plt.show()"
   ]
  },
  {
   "cell_type": "markdown",
   "metadata": {},
   "source": [
    "Công thức hồi quy (phần trọng số làm tròn đến 3 chữ số thập phân, ví dụ 0.012345 $\\to$ 0.012)\n",
    "\n",
    "$$\\text{Salary} = 368.852 * Quant$$"
   ]
  },
  {
   "cell_type": "markdown",
   "metadata": {},
   "source": [
    "# Yêu cầu 1d: Sinh viên tự xây dựng mô hình, tìm mô hình cho kết quả tốt nhất (3 điểm)"
   ]
  },
  {
   "cell_type": "markdown",
   "metadata": {},
   "source": [
    "Lưu ý: khi sử dụng cross-validation, sinh viên cần xáo trộn dữ liệu 1 lần duy nhất và thực hiện trên toàn bộ $m$ mô hình mà sinh viên thiết kế"
   ]
  },
  {
   "cell_type": "markdown",
   "metadata": {},
   "source": [
    "## Tìm mô hình"
   ]
  },
  {
   "cell_type": "markdown",
   "metadata": {},
   "source": [
    "Tất cả lí thuyết và bằng chứng của mô hình đều nằm trong phần báo cáo. Giảng viên có thể đọc song song cả code và báo cáo vì ở đây em sẽ chỉ minh họa các bước tìm ra mô hình là chủ yếu"
   ]
  },
  {
   "cell_type": "markdown",
   "metadata": {},
   "source": [
    "### Mô hình đầu tiên: Sử dụng toàn bộ thuộc tính được cho và sử dụng hồi quy tuyến tính để huấn luyện"
   ]
  },
  {
   "cell_type": "code",
   "execution_count": 14,
   "metadata": {},
   "outputs": [
    {
     "name": "stdout",
     "output_type": "stream",
     "text": [
      "(LinearRegression(), ['Gender', '10percentage', '12percentage', 'CollegeTier', 'Degree', 'collegeGPA', 'CollegeCityTier', 'English', 'Logical', 'Quant', 'Domain', 'ComputerProgramming', 'ElectronicsAndSemicon', 'ComputerScience', 'MechanicalEngg', 'ElectricalEngg', 'TelecomEngg', 'CivilEngg', 'conscientiousness', 'agreeableness', 'extraversion', 'nueroticism', 'openess_to_experience'])\n"
     ]
    }
   ],
   "source": [
    "attrs_1 = list(train.columns) # Tất cả thuộc tính\n",
    "attrs_1.pop() # Bỏ cột Salary\n",
    "model_1 = (LinearRegression(),attrs_1) # Dùng LinearRegression\n",
    "print(model_1)"
   ]
  },
  {
   "cell_type": "markdown",
   "metadata": {},
   "source": [
    "### Mô hình 2 ta sẽ dựa vào thực tế để xác định đặc tính. Xem trong phần báo cáo để biết thêm chi tiết"
   ]
  },
  {
   "cell_type": "code",
   "execution_count": 15,
   "metadata": {},
   "outputs": [],
   "source": [
    "model_2 = (LinearRegression(),['10percentage', 'collegeGPA', 'Quant', 'Domain', 'ComputerProgramming', 'ComputerScience'])"
   ]
  },
  {
   "cell_type": "markdown",
   "metadata": {},
   "source": [
    "### Mô hình thứ 3 cũng sẽ sử dụng hồi quy tuyến tính. Tuy nhiên ta sẽ lựa một số đặc tính đáng chú ý để sử dụng"
   ]
  },
  {
   "cell_type": "markdown",
   "metadata": {},
   "source": [
    "Ta sẽ sử dụng `Correlation Feature Selection` để tìm ra những đặc tính đáng chú ý trong mô hình và bỏ đi những đặc tính còn lại"
   ]
  },
  {
   "cell_type": "code",
   "execution_count": 16,
   "metadata": {},
   "outputs": [],
   "source": [
    "# Hàm này cho ta biết mức độ ảnh hưởng của các đặc tính\n",
    "def selectFeatures(X_train,Y_train):\n",
    "    # Configure to select all feauture\n",
    "    fs = SelectKBest(score_func=f_regression,k='all')\n",
    "    \n",
    "    # Learn relationship from data \n",
    "    fs.fit(X_train,Y_train)\n",
    "\n",
    "    return fs\n"
   ]
  },
  {
   "cell_type": "markdown",
   "metadata": {},
   "source": [
    "In ra các 'điểm số' khi làm bài test chọn mô hình"
   ]
  },
  {
   "cell_type": "code",
   "execution_count": 17,
   "metadata": {},
   "outputs": [
    {
     "name": "stdout",
     "output_type": "stream",
     "text": [
      "Feature 1: 2.944274913619532\n",
      "Feature 2: 55.41576318120139\n",
      "Feature 3: 51.36800845056778\n",
      "Feature 4: 70.80936687669913\n",
      "Feature 5: 0.6960956721049927\n",
      "Feature 6: 34.19975545672874\n",
      "Feature 7: 0.047009545448652226\n",
      "Feature 8: 66.26953437829842\n",
      "Feature 9: 82.66867307764147\n",
      "Feature 10: 98.88795390256075\n",
      "Feature 11: 33.94689268884023\n",
      "Feature 12: 36.154186515531485\n",
      "Feature 13: 0.19392212538276477\n",
      "Feature 14: 20.675793773985212\n",
      "Feature 15: 1.8715212393493832\n",
      "Feature 16: 3.8221706749004314\n",
      "Feature 17: 3.674493335920891\n",
      "Feature 18: 0.585974666336772\n",
      "Feature 19: 7.502266957708248\n",
      "Feature 20: 10.626813838822596\n",
      "Feature 21: 0.015907174898563352\n",
      "Feature 22: 12.166444549758959\n",
      "Feature 23: 0.1371359106523385\n"
     ]
    }
   ],
   "source": [
    "fs = selectFeatures(X_train,y_train)\n",
    "for i,score in enumerate(fs.scores_):\n",
    "    print(f'Feature {i+1}: {score}')"
   ]
  },
  {
   "cell_type": "markdown",
   "metadata": {},
   "source": [
    "Vẽ biểu đồ cho mức độ quan trọng của đặc tính"
   ]
  },
  {
   "cell_type": "code",
   "execution_count": 18,
   "metadata": {},
   "outputs": [
    {
     "data": {
      "image/png": "[encoded data removed]",
      "text/plain": [
       "<Figure size 640x480 with 1 Axes>"
      ]
     },
     "metadata": {},
     "output_type": "display_data"
    }
   ],
   "source": [
    "plt.bar([i for i in range(len(fs.scores_))],fs.scores_)\n",
    "plt.show()"
   ]
  },
  {
   "cell_type": "markdown",
   "metadata": {},
   "source": [
    "Ta sẽ lần lượt chọn tất cả các đặc tính có số điểm từ 10 trở lên và bỏ qua những đặc tính còn lại do chúng chỉ gây nhiễu "
   ]
  },
  {
   "cell_type": "markdown",
   "metadata": {},
   "source": [
    "Các đặc tính được chọn lần lượt là: `10percentage`, `12percentage`,`CollegeTier`,`collegeGPA`,`English`,`Logical`,`Quant`,`Domain`,`ComputerProgramming`,`agreeableness`,`ComputerScience`"
   ]
  },
  {
   "cell_type": "code",
   "execution_count": 19,
   "metadata": {},
   "outputs": [],
   "source": [
    "model_3 = (LinearRegression(),['10percentage', '12percentage','CollegeTier','collegeGPA','English','Logical','Quant','Domain','ComputerScience','ComputerProgramming','agreeableness'])"
   ]
  },
  {
   "cell_type": "markdown",
   "metadata": {},
   "source": [
    "### Mô hình thứ 4, ta sẽ cải tiến mô hình thứ 3 bằng Huber Regressor"
   ]
  },
  {
   "cell_type": "markdown",
   "metadata": {},
   "source": [
    "Huber Regression hạn chế sai số do outliers gây ra. Xem thêm trong phần báo cáo để biết thêm chi tiết thuật toán"
   ]
  },
  {
   "cell_type": "code",
   "execution_count": 20,
   "metadata": {},
   "outputs": [],
   "source": [
    "model_4 = (HuberRegressor(),['10percentage', '12percentage','CollegeTier','collegeGPA','English','Logical','Quant','Domain','ComputerScience','ComputerProgramming','agreeableness'])"
   ]
  },
  {
   "cell_type": "markdown",
   "metadata": {},
   "source": [
    "## Thử nghiệm, so sánh các mô hình"
   ]
  },
  {
   "cell_type": "code",
   "execution_count": 21,
   "metadata": {},
   "outputs": [
    {
     "name": "stdout",
     "output_type": "stream",
     "text": [
      "model 1 : 112383.21538002584\n",
      "model 2 : 112679.57027815464\n",
      "model 3 : 112340.945311874\n",
      "model 4 : 108273.83434228101\n"
     ]
    }
   ],
   "source": [
    "# Xáo trộn toàn bộ dữ liệu trong tập train\n",
    "\n",
    "models = [model_1,model_2,model_3,model_4]\n",
    "choose_model(models,train,display_model=False)"
   ]
  },
  {
   "cell_type": "markdown",
   "metadata": {},
   "source": [
    "Như đã thử nghiệm bằng k-fold cross validation thì model 4 là tốt nhất nên ta sẽ sử dụng model 1 để huấn luyện cho mô hình "
   ]
  },
  {
   "cell_type": "code",
   "execution_count": 22,
   "metadata": {},
   "outputs": [
    {
     "name": "stdout",
     "output_type": "stream",
     "text": [
      "[813.465 618.183 -14887.593 11.623 129.314 11.924 213.761 7157.488\n",
      " -129.371 98.721 8727.450]\n"
     ]
    }
   ],
   "source": [
    "# Huấn luyện lại mô hình my_best_model trên toàn bộ tập huấn luyện\n",
    "lr_1d,my_best_model = model_4\n",
    "\n",
    "# Lấy tập dữ liệu của my_best_model\n",
    "X_train_1d = train.loc[:,my_best_model].to_numpy()\n",
    "Y_train_1d = train.loc[:,[\"Salary\"]].to_numpy()\n",
    "X_test_1d = test.loc[:,my_best_model].to_numpy()\n",
    "Y_test_1d = test.loc[:,[\"Salary\"]].to_numpy()\n",
    "\n",
    "# Huấn luyện mô hình\n",
    "lr_1d.fit(X_train_1d,Y_train_1d)\n",
    "\n",
    "# Lấy hệ số\n",
    "print(lr_1d.coef_)"
   ]
  },
  {
   "cell_type": "code",
   "execution_count": 23,
   "metadata": {},
   "outputs": [
    {
     "name": "stdout",
     "output_type": "stream",
     "text": [
      "100658.21505757519\n"
     ]
    }
   ],
   "source": [
    "# Gọi hàm MAE (tự cài đặt hoặc từ thư viện) trên tập kiểm tra với mô hình my_best_model\n",
    "print(mean_absolute_error(lr_1d.predict(X_test_1d),Y_test_1d))"
   ]
  },
  {
   "cell_type": "markdown",
   "metadata": {},
   "source": [
    "Công thức hồi quy (phần trọng số làm tròn đến 3 chữ số thập phân, ví dụ 0.012345 $\\to$ 0.012)\n",
    "\n",
    "$$\\text{Salary} = 813.465 * 10percentage + 618.183 * 12percentage -14887.593 * CollegeTier + $$\n",
    "$$ 11.623 * collegeGPA + 129.314 * English + 11.924 * Logical + $$\n",
    "$$213.761 * Quant + 7157.488 * Domain -129.371 * ComputerScience + $$\n",
    "$$ 98.721 * ComputerScience  + 8727.450 * agreeableness $$\n"
   ]
  }
 ],
 "metadata": {
  "kernelspec": {
   "display_name": "Python 3.8.5 ('base')",
   "language": "python",
   "name": "python3"
  },
  "language_info": {
   "codemirror_mode": {
    "name": "ipython",
    "version": 3
   },
   "file_extension": ".py",
   "mimetype": "text/x-python",
   "name": "python",
   "nbconvert_exporter": "python",
   "pygments_lexer": "ipython3",
   "version": "3.11.4"
  },
  "orig_nbformat": 4,
  "vscode": {
   "interpreter": {
    "hash": "15af99fd1a1a3f0a3416ea421564e792a8676a13670c2eed127d89ab0518a27b"
   }
  }
 },
 "nbformat": 4,
 "nbformat_minor": 2
}
